{
 "cells": [
  {
   "cell_type": "markdown",
   "id": "102435af-6995-4a75-bfb1-0d23916e25b2",
   "metadata": {},
   "source": [
    "# Crie um programa que leia o nome completo de uma pessoa e motre:\n",
    "* O nome com todas as letras maiúsculas\n",
    "* O nome com todas minúsculas\n",
    "* Quantas letras ao todo (sem considerar espaços)\n",
    "* Quantas letras tem o primeiro nome"
   ]
  },
  {
   "cell_type": "markdown",
   "id": "8070ac51-9a87-4212-8ea4-0c49a9d63287",
   "metadata": {},
   "source": [
    "# Faça um programa que leia um número de 0 a 9999 e mostre na tela cada um dos dígitos separados\n",
    "Ex:\n",
    "> Digite um número: 1834\n",
    "\n",
    "> unidade: 4\n",
    "\n",
    "> dezena: 3\n",
    "\n",
    "> centena: 8\n",
    "\n",
    "> milhar: 1"
   ]
  },
  {
   "cell_type": "markdown",
   "id": "40c354ce-3a5e-4fb8-8604-2092d40b535c",
   "metadata": {},
   "source": [
    "# Crie um programa que leia o nome de uma cidade e diga se ela começa ou não com o nome \"SANTO\"\n"
   ]
  },
  {
   "cell_type": "markdown",
   "id": "eac068f0-ce61-49e9-bbb3-09fc24c906c3",
   "metadata": {},
   "source": [
    "# Crie um programa que leia o nome de uma pessoa e diga se ela tem \"SILVA\" no nome"
   ]
  },
  {
   "cell_type": "markdown",
   "id": "e6030ec5-83b6-4e0b-afd9-0817f7eb35e7",
   "metadata": {},
   "source": [
    "# Faça um programa que leia uma frase pelo teclado e mostre:\n",
    "\n",
    "* Quantas vezes aparece a letra \"A\"\n",
    "* Em que posição ela aparece a primeira vez\n",
    "* Em que posição ela aparece a última vez"
   ]
  },
  {
   "cell_type": "markdown",
   "id": "f2b030f9-b2ee-4c15-8799-973a59702e9d",
   "metadata": {},
   "source": [
    "# Faça um programa que leia o nome completo de uma pessoa, mostrando em seguida o primeiro e o último nome separadamente\n",
    "\n",
    "Ex: Ana Maria de Souza\n",
    "primeiro = Ana\n",
    "último = Souza"
   ]
  }
 ],
 "metadata": {
  "kernelspec": {
   "display_name": "Python 3 (ipykernel)",
   "language": "python",
   "name": "python3"
  },
  "language_info": {
   "codemirror_mode": {
    "name": "ipython",
    "version": 3
   },
   "file_extension": ".py",
   "mimetype": "text/x-python",
   "name": "python",
   "nbconvert_exporter": "python",
   "pygments_lexer": "ipython3",
   "version": "3.9.7"
  }
 },
 "nbformat": 4,
 "nbformat_minor": 5
}
