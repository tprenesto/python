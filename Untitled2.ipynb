{
 "cells": [
  {
   "cell_type": "code",
   "execution_count": 3,
   "id": "f09d88a4-fc67-45c8-bab0-af4de0db31ba",
   "metadata": {},
   "outputs": [
    {
     "name": "stdin",
     "output_type": "stream",
     "text": [
      "Qual é o seu nome?  t\n"
     ]
    },
    {
     "name": "stdout",
     "output_type": "stream",
     "text": [
      "Bem vindo, t\n"
     ]
    }
   ],
   "source": [
    "nome = input('Qual é o seu nome? ')\n",
    "print('Bem vindo,', nome)"
   ]
  },
  {
   "cell_type": "code",
   "execution_count": 2,
   "id": "73973ba0-8250-493b-b3a7-90eb563015a3",
   "metadata": {},
   "outputs": [
    {
     "name": "stdin",
     "output_type": "stream",
     "text": [
      "Digite o primeiro número:  1\n",
      "Digite o segundo número:  2\n"
     ]
    },
    {
     "name": "stdout",
     "output_type": "stream",
     "text": [
      "A soma é: 12\n"
     ]
    }
   ],
   "source": [
    "n1 = input('Digite o primeiro número: ')\n",
    "n2 = input('Digite o segundo número: ')\n",
    "print('A soma é:', n1 + n2)"
   ]
  },
  {
   "cell_type": "code",
   "execution_count": 5,
   "id": "6e212cf5-95cf-4c65-87fd-a5381c516152",
   "metadata": {},
   "outputs": [
    {
     "name": "stdin",
     "output_type": "stream",
     "text": [
      "Digite um número:  2\n",
      "Digite outro número: 3\n"
     ]
    },
    {
     "name": "stdout",
     "output_type": "stream",
     "text": [
      "A soma de 2 e 3 é 5\n"
     ]
    }
   ],
   "source": [
    "n1 = int(input('Digite um número: '))\n",
    "n2 = int(input('Digite outro número:'))\n",
    "print('A soma de {} e {} é {}'.format(n1,n2,n1+n2))"
   ]
  },
  {
   "cell_type": "code",
   "execution_count": 15,
   "id": "c77eefbd-7761-4508-a380-5ed68d854a83",
   "metadata": {},
   "outputs": [
    {
     "name": "stdin",
     "output_type": "stream",
     "text": [
      "Digite algo:  Thiago\n"
     ]
    },
    {
     "name": "stdout",
     "output_type": "stream",
     "text": [
      "O tipo primitivo desse valor é  <class 'str'>\n",
      "Só tem espaços?  False\n",
      "É um número?  False\n",
      "É alfabético?  True\n",
      "É alfanumérico?  True\n",
      "Está em maiúsculas?  False\n",
      "Está em minúsculas?  False\n",
      "Está capitalizada?  True\n"
     ]
    }
   ],
   "source": [
    "algo = input('Digite algo: ')\n",
    "print('O tipo primitivo desse valor é ', type(algo))\n",
    "print('Só tem espaços? ', algo.isspace())\n",
    "print('É um número? ', algo.isnumeric())\n",
    "print('É alfabético? ', algo.isalpha())\n",
    "print('É alfanumérico? ', algo.isalnum())\n",
    "print('Está em maiúsculas? ', algo.isupper())\n",
    "print('Está em minúsculas? ', algo.islower())\n",
    "print('Está capitalizada? ', algo.istitle())"
   ]
  }
 ],
 "metadata": {
  "kernelspec": {
   "display_name": "Python 3",
   "language": "python",
   "name": "python3"
  },
  "language_info": {
   "codemirror_mode": {
    "name": "ipython",
    "version": 3
   },
   "file_extension": ".py",
   "mimetype": "text/x-python",
   "name": "python",
   "nbconvert_exporter": "python",
   "pygments_lexer": "ipython3",
   "version": "3.8.8"
  }
 },
 "nbformat": 4,
 "nbformat_minor": 5
}
