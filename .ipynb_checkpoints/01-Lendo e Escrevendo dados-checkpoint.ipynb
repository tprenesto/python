{
 "cells": [
  {
   "cell_type": "code",
   "execution_count": 1,
   "id": "f09d88a4-fc67-45c8-bab0-af4de0db31ba",
   "metadata": {},
   "outputs": [
    {
     "name": "stdin",
     "output_type": "stream",
     "text": [
      "Qual é o seu nome?  Thiago\n"
     ]
    },
    {
     "name": "stdout",
     "output_type": "stream",
     "text": [
      "Bem vindo, Thiago\n"
     ]
    }
   ],
   "source": [
    "nome = input('Qual é o seu nome? ')\n",
    "print('Bem vindo,', nome)"
   ]
  },
  {
   "cell_type": "code",
   "execution_count": 2,
   "id": "73973ba0-8250-493b-b3a7-90eb563015a3",
   "metadata": {},
   "outputs": [
    {
     "name": "stdin",
     "output_type": "stream",
     "text": [
      "Digite o primeiro número:  1\n",
      "Digite o segundo número:  2\n"
     ]
    },
    {
     "name": "stdout",
     "output_type": "stream",
     "text": [
      "A soma é: 12\n"
     ]
    }
   ],
   "source": [
    "n1 = input('Digite o primeiro número: ')\n",
    "n2 = input('Digite o segundo número: ')\n",
    "print('A soma é:', n1 + n2)"
   ]
  },
  {
   "cell_type": "code",
   "execution_count": 3,
   "id": "6e212cf5-95cf-4c65-87fd-a5381c516152",
   "metadata": {},
   "outputs": [
    {
     "name": "stdin",
     "output_type": "stream",
     "text": [
      "Digite um número:  1\n",
      "Digite outro número: 2\n"
     ]
    },
    {
     "name": "stdout",
     "output_type": "stream",
     "text": [
      "A soma de 1 e 2 é 3\n"
     ]
    }
   ],
   "source": [
    "n1 = int(input('Digite um número: '))\n",
    "n2 = int(input('Digite outro número:'))\n",
    "print('A soma de {} e {} é {}'.format(n1,n2,n1+n2))"
   ]
  },
  {
   "cell_type": "code",
   "execution_count": 4,
   "id": "c77eefbd-7761-4508-a380-5ed68d854a83",
   "metadata": {},
   "outputs": [
    {
     "name": "stdin",
     "output_type": "stream",
     "text": [
      "Digite algo:  algo\n"
     ]
    },
    {
     "name": "stdout",
     "output_type": "stream",
     "text": [
      "O tipo primitivo desse valor é  <class 'str'>\n",
      "Só tem espaços?  False\n",
      "É um número?  False\n",
      "É alfabético?  True\n",
      "É alfanumérico?  True\n",
      "Está em maiúsculas?  False\n",
      "Está em minúsculas?  True\n",
      "Está capitalizada?  False\n"
     ]
    }
   ],
   "source": [
    "algo = input('Digite algo: ')\n",
    "print('O tipo primitivo desse valor é ', type(algo))\n",
    "print('Só tem espaços? ', algo.isspace())\n",
    "print('É um número? ', algo.isnumeric())\n",
    "print('É alfabético? ', algo.isalpha())\n",
    "print('É alfanumérico? ', algo.isalnum())\n",
    "print('Está em maiúsculas? ', algo.isupper())\n",
    "print('Está em minúsculas? ', algo.islower())\n",
    "print('Está capitalizada? ', algo.istitle())"
   ]
  },
  {
   "cell_type": "code",
   "execution_count": 9,
   "id": "082915fd-9d39-491d-a0d6-7b020b6f8b34",
   "metadata": {},
   "outputs": [
    {
     "name": "stdin",
     "output_type": "stream",
     "text": [
      "Qual o seu nome? Thiago\n"
     ]
    },
    {
     "name": "stdout",
     "output_type": "stream",
     "text": [
      "Prazer em te conhecer Thiago!\n",
      "Prazer em te conhecer Thiago              !\n",
      "Prazer em te conhecer               Thiago!\n",
      "Prazer em te conhecer Thiago              !\n",
      "Prazer em te conhecer        Thiago       !\n",
      "Prazer em te conhecer =======Thiago=======!\n"
     ]
    }
   ],
   "source": [
    "nome = input('Qual o seu nome?')\n",
    "print('Prazer em te conhecer {}!'.format(nome))\n",
    "print('Prazer em te conhecer {:20}!'.format(nome))\n",
    "print('Prazer em te conhecer {:>20}!'.format(nome))\n",
    "print('Prazer em te conhecer {:<20}!'.format(nome))\n",
    "print('Prazer em te conhecer {:^20}!'.format(nome))\n",
    "print('Prazer em te conhecer {:=^20}!'.format(nome))"
   ]
  },
  {
   "cell_type": "code",
   "execution_count": 13,
   "id": "db843589-6bdf-49cf-9889-2886d2775409",
   "metadata": {},
   "outputs": [
    {
     "name": "stdin",
     "output_type": "stream",
     "text": [
      "Informe um número 1\n",
      "Informe outro número 3\n"
     ]
    },
    {
     "name": "stdout",
     "output_type": "stream",
     "text": [
      "A soma de 1 e 3 é 4\n",
      "A soma de 1 e 3 é 4.000\n"
     ]
    }
   ],
   "source": [
    "n1 = int(input('Informe um número'))\n",
    "n2 = int(input('Informe outro número'))\n",
    "print('A soma de {} e {} é {}'.format(n1,n2,n1+n2))\n",
    "print('A soma de {} e {} é {:.3f}'.format(n1,n2,n1+n2))"
   ]
  },
  {
   "cell_type": "code",
   "execution_count": 14,
   "id": "9b05b962-5a51-42e7-9f90-e5a4dcb1ea13",
   "metadata": {},
   "outputs": [
    {
     "name": "stdout",
     "output_type": "stream",
     "text": [
      "Frase 1\n",
      "Frase 2\n",
      "Frase 1 Frase 2\n"
     ]
    }
   ],
   "source": [
    "print('Frase 1')\n",
    "print('Frase 2')\n",
    "\n",
    "print('Frase 1', end=' ')\n",
    "print('Frase 2')"
   ]
  }
 ],
 "metadata": {
  "kernelspec": {
   "display_name": "Python 3 (ipykernel)",
   "language": "python",
   "name": "python3"
  },
  "language_info": {
   "codemirror_mode": {
    "name": "ipython",
    "version": 3
   },
   "file_extension": ".py",
   "mimetype": "text/x-python",
   "name": "python",
   "nbconvert_exporter": "python",
   "pygments_lexer": "ipython3",
   "version": "3.9.7"
  }
 },
 "nbformat": 4,
 "nbformat_minor": 5
}
