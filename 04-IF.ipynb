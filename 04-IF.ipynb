{
 "cells": [
  {
   "cell_type": "markdown",
   "id": "2a58589e-7f9f-470a-8399-6cedc3af7d61",
   "metadata": {},
   "source": [
    "# Escreva um programa que faça o computador \"pensar\" em um número inteiro entre 0 e 5 e peça para o usuário tentar descobrir qual foi o número escolhido pleo computador.\n",
    "# O programa deverá escrever na tela se o usuário venceu ou perdeu.\n"
   ]
  },
  {
   "cell_type": "code",
   "execution_count": 5,
   "id": "2998756f-1c0f-4bd4-84b8-e5d744e04c35",
   "metadata": {},
   "outputs": [
    {
     "name": "stdin",
     "output_type": "stream",
     "text": [
      "Informe um número entre 0 e 5:  3\n"
     ]
    },
    {
     "name": "stdout",
     "output_type": "stream",
     "text": [
      "Parabéns!! Você acertou o número sorteado\n",
      "Número sorteado: 3 Palpite 3\n"
     ]
    }
   ],
   "source": [
    "import random\n",
    "sorteio = random.randint(0,6)\n",
    "n = int(input('Informe um número entre 0 e 5: '))\n",
    "if sorteio == n:\n",
    "    print('Parabéns!! Você acertou o número sorteado')\n",
    "    print('Número sorteado: {} Palpite {}'.format(sorteio, n))\n",
    "else:\n",
    "    print('Tente novamente')\n",
    "    print('Número sorteado: {} Palpite {}'.format(sorteio, n))\n",
    "    \n"
   ]
  },
  {
   "cell_type": "markdown",
   "id": "a04d02b4-f9e0-48a1-b913-5b26b5e94038",
   "metadata": {},
   "source": [
    "# Escreva um programa que leia a velocidade de um carro. Se ele ultrapassar 80Km/h, mostre uma mensagem dizendo que ele foi multado. A multa vai custar R$7,00 por cada Km acima do limite."
   ]
  },
  {
   "cell_type": "code",
   "execution_count": 10,
   "id": "b3e8f369-0f6a-473a-8f0e-96ccbee0a2ce",
   "metadata": {},
   "outputs": [
    {
     "name": "stdin",
     "output_type": "stream",
     "text": [
      "Informe a velocidade do carro:  50\n"
     ]
    },
    {
     "name": "stdout",
     "output_type": "stream",
     "text": [
      "Velocidade dentro do permitido\n"
     ]
    }
   ],
   "source": [
    "velocidade = float(input('Informe a velocidade do carro: '))\n",
    "if velocidade > 80:\n",
    "    diferenca = velocidade - 80\n",
    "    multa = diferenca * 7\n",
    "    print('Você ultrapassou a velocidade permitida. Será cobrada uma multa de R${:.2f}'.format(multa))\n",
    "else:\n",
    "    print('Velocidade dentro do permitido')"
   ]
  },
  {
   "cell_type": "markdown",
   "id": "9c22f5cd-1d70-43e2-b33a-2a70a9652266",
   "metadata": {},
   "source": [
    "# Crie um programa que leia um número inteiro e mostre na tela se ele é PAR ou ÍMPAR"
   ]
  },
  {
   "cell_type": "code",
   "execution_count": 13,
   "id": "07cc165c-0805-4a01-9286-4caf9cbdd401",
   "metadata": {},
   "outputs": [
    {
     "name": "stdin",
     "output_type": "stream",
     "text": [
      "Informe um número:  3\n"
     ]
    },
    {
     "name": "stdout",
     "output_type": "stream",
     "text": [
      "O número que você informou é ÍMPAR\n"
     ]
    }
   ],
   "source": [
    "n = int(input('Informe um número: '))\n",
    "if n % 2 == 0:\n",
    "    print('O número que você informou é PAR')\n",
    "else:\n",
    "    print('O número que você informou é ÍMPAR')"
   ]
  },
  {
   "cell_type": "markdown",
   "id": "e215e4ea-fc4a-4562-a945-4763c7fe9aa7",
   "metadata": {},
   "source": [
    "# Desenvolva um programa que pergunte a distância de uma viagem em Km. Calcule o preço da passagem, cobrando R$$0.50 por Km para viagens de até 200Km e R$0.45 para viagens mais longas"
   ]
  },
  {
   "cell_type": "code",
   "execution_count": 15,
   "id": "d993c5cf-5531-44a4-895e-df410990b91c",
   "metadata": {},
   "outputs": [
    {
     "name": "stdin",
     "output_type": "stream",
     "text": [
      "Informe a distância da viagem em Km:  300\n"
     ]
    },
    {
     "name": "stdout",
     "output_type": "stream",
     "text": [
      "O valor da passagem é: R$135.00\n"
     ]
    }
   ],
   "source": [
    "km = float(input('Informe a distância da viagem em Km: '))\n",
    "if km <= 200:\n",
    "    print('O valor da passagem é: R${:.2f}'.format(km*0.5))\n",
    "else:\n",
    "    print('O valor da passagem é: R${:.2f}'.format(km*0.45))"
   ]
  },
  {
   "cell_type": "markdown",
   "id": "e299d07f-0072-4ec8-936b-1bc1eecebddb",
   "metadata": {},
   "source": [
    "# Faça um programa que leia um ano qualquer e mostre se ele é Bissexto"
   ]
  },
  {
   "cell_type": "code",
   "execution_count": 17,
   "id": "50297929-08e2-459f-bab1-08ad4f708b08",
   "metadata": {},
   "outputs": [
    {
     "name": "stdin",
     "output_type": "stream",
     "text": [
      "Informe um ano:  2000\n"
     ]
    },
    {
     "name": "stdout",
     "output_type": "stream",
     "text": [
      "O ano 2000 é bissexto\n"
     ]
    }
   ],
   "source": [
    "ano = int(input('Informe um ano: '))\n",
    "if ano %4 == 0:\n",
    "    print('O ano {} é bissexto'.format(ano))\n",
    "else:\n",
    "    print('O ano {} não é bissexto'.format(ano))"
   ]
  },
  {
   "cell_type": "markdown",
   "id": "e90cefb0-ee36-40d7-b61f-9a74d89fb690",
   "metadata": {},
   "source": [
    "# Faça um programa que leia três números e mostre qual é o maior e qual é o menor"
   ]
  },
  {
   "cell_type": "code",
   "execution_count": 29,
   "id": "c4302261-fa6f-4b81-972b-7f18f7a461c0",
   "metadata": {},
   "outputs": [
    {
     "name": "stdin",
     "output_type": "stream",
     "text": [
      "Informe um número:  2\n",
      "Informe outro número:  3\n",
      "Informe outro número:  1\n"
     ]
    },
    {
     "name": "stdout",
     "output_type": "stream",
     "text": [
      "O menor número é: 1\n",
      "O maior número é: 3\n"
     ]
    }
   ],
   "source": [
    "n1 = int(input('Informe um número: '))\n",
    "n2 = int(input('Informe outro número: '))\n",
    "n3 = int(input('Informe outro número: '))\n",
    "\n",
    "menor = n1\n",
    "maior = n1\n",
    "\n",
    "if n2 < menor:\n",
    "    menor = n2\n",
    "if n3 < menor:\n",
    "    menor = n3\n",
    "\n",
    "if n2 > maior:\n",
    "    maior = n2\n",
    "if n3 > maior:\n",
    "    maior = n3\n",
    "    \n",
    "print('O menor número é: {}'.format(menor))\n",
    "print('O maior número é: {}'.format(maior))\n",
    "    "
   ]
  },
  {
   "cell_type": "markdown",
   "id": "6990974d-0a29-41bb-a263-d2d045b9281f",
   "metadata": {},
   "source": [
    "# Escreva um programa que pergunte o salário de um funcionário e calcule o valor do seu aumento. Para salários superiores a R$1.250,00, calcule um aumento de 10%. Para os inferiores ou iguais, o aumento é de 15%."
   ]
  },
  {
   "cell_type": "code",
   "execution_count": 21,
   "id": "e9f9fc2c-b3c6-4f4a-953a-29b59ad041e3",
   "metadata": {},
   "outputs": [
    {
     "name": "stdin",
     "output_type": "stream",
     "text": [
      "Informe o salário do funcionário: R$ 2000\n"
     ]
    },
    {
     "name": "stdout",
     "output_type": "stream",
     "text": [
      "O salário reajustado com 10% é igual a R$2200.00\n"
     ]
    }
   ],
   "source": [
    "salario = float(input('Informe o salário do funcionário: R$'))\n",
    "if salario > 1250:\n",
    "    print('O salário reajustado com 10% é igual a R${:.2f}'.format(salario*1.1))\n",
    "else:\n",
    "    print('O salário reajustado com 15% é igual a R${:.2f}'.format(salario*1.15))"
   ]
  },
  {
   "cell_type": "markdown",
   "id": "f78a17b4-aa16-4054-93d5-7222d293e00e",
   "metadata": {},
   "source": [
    "# Desenvolva um programa que leia o comprimento de três retas e diga ao usuário se elas podem ou não formar um triângulo"
   ]
  },
  {
   "cell_type": "code",
   "execution_count": 23,
   "id": "d0bafa1a-e153-40fb-8bae-e970f75dec7b",
   "metadata": {},
   "outputs": [
    {
     "name": "stdin",
     "output_type": "stream",
     "text": [
      "Informe o comprimento da primeira reta:  15\n",
      "Informe o comprimento da segunda reta:  8\n",
      "Informe o comprimento da terceira reta:  6\n"
     ]
    },
    {
     "name": "stdout",
     "output_type": "stream",
     "text": [
      "Com essas retas não é possível fazer um triângulo\n"
     ]
    }
   ],
   "source": [
    "r1 = float(input('Informe o comprimento da primeira reta: '))\n",
    "r2 = float(input('Informe o comprimento da segunda reta: '))\n",
    "r3 = float(input('Informe o comprimento da terceira reta: '))\n",
    "\n",
    "if r1+r2 > r3:\n",
    "    if r1+r3 > r2:\n",
    "        if r2+r3 > r1:\n",
    "            print('Com essas retas é possível fazer um triângulo')\n",
    "        else:\n",
    "            print('Com essas retas não é possível fazer um triângulo')\n",
    "    else:\n",
    "        print('Com essas retas não é possível fazer um triângulo')\n",
    "else:\n",
    "    print('Com essas retas não é possível fazer um triângulo')\n",
    "        "
   ]
  }
 ],
 "metadata": {
  "kernelspec": {
   "display_name": "Python 3 (ipykernel)",
   "language": "python",
   "name": "python3"
  },
  "language_info": {
   "codemirror_mode": {
    "name": "ipython",
    "version": 3
   },
   "file_extension": ".py",
   "mimetype": "text/x-python",
   "name": "python",
   "nbconvert_exporter": "python",
   "pygments_lexer": "ipython3",
   "version": "3.9.7"
  }
 },
 "nbformat": 4,
 "nbformat_minor": 5
}
