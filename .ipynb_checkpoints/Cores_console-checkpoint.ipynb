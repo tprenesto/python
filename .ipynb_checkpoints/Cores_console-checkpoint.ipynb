{
 "cells": [
  {
   "cell_type": "code",
   "execution_count": 1,
   "id": "a15f3d18-d18a-477f-8860-635e787b1b43",
   "metadata": {},
   "outputs": [
    {
     "name": "stdout",
     "output_type": "stream",
     "text": [
      "\u001b[0;33;44mTeste de cores\n"
     ]
    }
   ],
   "source": [
    "print('\\033[0;33;44mTeste de cores')"
   ]
  },
  {
   "cell_type": "code",
   "execution_count": 3,
   "id": "f903073e-c064-4f4c-a1ce-8bd6562a5cbc",
   "metadata": {},
   "outputs": [
    {
     "name": "stdout",
     "output_type": "stream",
     "text": [
      "O valor de n é \u001b[0;34m1\u001b[m, e o valor de m é \u001b[0;31m2\u001b[m\n"
     ]
    }
   ],
   "source": [
    "cores = {'azul':'\\033[0;34m',\n",
    "         'vermelho':'\\033[0;31m',\n",
    "         'limpa':'\\033[m'}\n",
    "n = 1\n",
    "m = 2\n",
    "print('O valor de n é {}{}{}, e o valor de m é {}{}{}'.format(cores['azul'], n, cores['limpa'], cores['vermelho'], m, cores['limpa']))"
   ]
  }
 ],
 "metadata": {
  "kernelspec": {
   "display_name": "Python 3 (ipykernel)",
   "language": "python",
   "name": "python3"
  },
  "language_info": {
   "codemirror_mode": {
    "name": "ipython",
    "version": 3
   },
   "file_extension": ".py",
   "mimetype": "text/x-python",
   "name": "python",
   "nbconvert_exporter": "python",
   "pygments_lexer": "ipython3",
   "version": "3.9.7"
  }
 },
 "nbformat": 4,
 "nbformat_minor": 5
}
