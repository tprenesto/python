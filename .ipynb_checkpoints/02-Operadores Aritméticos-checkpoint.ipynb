{
 "cells": [
  {
   "cell_type": "markdown",
   "id": "e71142f9-5457-4dfc-b7d3-51c178b44747",
   "metadata": {},
   "source": [
    "# Operadores Aritméticos\n",
    "\n",
    "'+' Adição\n",
    "- Subtração\n",
    "* Multiplicação\n",
    "/ Divisão\n",
    "** Exponenciação\n",
    "// Divisão Inteira\n",
    "% Resto da Divisão\n",
    "\n",
    "# Ordem de Precedência\n",
    "\n",
    "()\n",
    "**\n",
    "* / // %\n",
    "+ -\n"
   ]
  },
  {
   "cell_type": "code",
   "execution_count": 1,
   "id": "e72c3261-e860-41c0-9e30-6efd542d54c6",
   "metadata": {},
   "outputs": [
    {
     "data": {
      "text/plain": [
       "17"
      ]
     },
     "execution_count": 1,
     "metadata": {},
     "output_type": "execute_result"
    }
   ],
   "source": [
    "2+3*5"
   ]
  },
  {
   "cell_type": "code",
   "execution_count": 2,
   "id": "d2503fd7-ff1b-4736-92bf-435e5eea9b97",
   "metadata": {},
   "outputs": [
    {
     "data": {
      "text/plain": [
       "1877"
      ]
     },
     "execution_count": 2,
     "metadata": {},
     "output_type": "execute_result"
    }
   ],
   "source": [
    "2+3*5**4"
   ]
  },
  {
   "cell_type": "code",
   "execution_count": 3,
   "id": "a9393c6c-c9eb-4085-9470-5367c6ffd61b",
   "metadata": {},
   "outputs": [
    {
     "data": {
      "text/plain": [
       "50627"
      ]
     },
     "execution_count": 3,
     "metadata": {},
     "output_type": "execute_result"
    }
   ],
   "source": [
    "2+(3*5)**4"
   ]
  },
  {
   "cell_type": "code",
   "execution_count": 4,
   "id": "beee2e5e-c343-4a82-a10e-b9f58f971381",
   "metadata": {},
   "outputs": [
    {
     "name": "stdin",
     "output_type": "stream",
     "text": [
      "Informe um número 3\n"
     ]
    },
    {
     "name": "stdout",
     "output_type": "stream",
     "text": [
      "O sucessor de 3 é 4\n",
      "O antecessor de 3 é 2\n"
     ]
    }
   ],
   "source": [
    "n1 = int(input('Informe um número'))\n",
    "print('O sucessor de {} é {}'.format(n1, n1+1))\n",
    "print('O antecessor de {} é {}'.format(n1, n1-1))\n"
   ]
  },
  {
   "cell_type": "code",
   "execution_count": 7,
   "id": "631eac64-6c92-4396-b8b7-294194c313e3",
   "metadata": {},
   "outputs": [
    {
     "name": "stdin",
     "output_type": "stream",
     "text": [
      "Informe um número 2\n"
     ]
    },
    {
     "name": "stdout",
     "output_type": "stream",
     "text": [
      "O dobro de 2 é 4\n",
      "O tripo de 2 é 6\n",
      "A raiz quadrada de 2 é 1.4142135623730951\n"
     ]
    }
   ],
   "source": [
    "n2 = int(input('Informe um número'))\n",
    "print('O dobro de {} é {}'.format(n2, n2*2))\n",
    "print('O tripo de {} é {}'.format(n2, n2*3))\n",
    "print('A raiz quadrada de {} é {}'.format(n2, n2**(1/2)))"
   ]
  },
  {
   "cell_type": "code",
   "execution_count": 8,
   "id": "a44ff8f7-72ed-4c8e-a1ec-a8e5ad9b9ebc",
   "metadata": {},
   "outputs": [
    {
     "name": "stdin",
     "output_type": "stream",
     "text": [
      "Informe a primeira nota 5\n",
      "Informe a segunda nota 4\n"
     ]
    },
    {
     "name": "stdout",
     "output_type": "stream",
     "text": [
      "A média das notas é 4.5\n"
     ]
    }
   ],
   "source": [
    "nota1 = float(input('Informe a primeira nota'))\n",
    "nota2 = float(input('Informe a segunda nota'))\n",
    "print('A média das notas é {}'.format((nota1+nota2)/2))"
   ]
  },
  {
   "cell_type": "code",
   "execution_count": 10,
   "id": "b2cb301b-9be3-409c-a830-1e5b160745ce",
   "metadata": {},
   "outputs": [
    {
     "name": "stdout",
     "output_type": "stream",
     "text": [
      "Conversão de Metros para centímetros e milímetros\n"
     ]
    },
    {
     "name": "stdin",
     "output_type": "stream",
     "text": [
      "Entre com o valor em metros 5\n"
     ]
    },
    {
     "name": "stdout",
     "output_type": "stream",
     "text": [
      "5.0 convertido em centímetros é 500.0\n",
      "5.0 convertido em milimetros é 5000.0\n"
     ]
    }
   ],
   "source": [
    "print('Conversão de Metros para centímetros e milímetros')\n",
    "valor = float(input('Entre com o valor em metros'))\n",
    "print('{} convertido em centímetros é {}'.format(valor, valor*100))\n",
    "print('{} convertido em milimetros é {}'.format(valor, valor*1000))"
   ]
  },
  {
   "cell_type": "code",
   "execution_count": 24,
   "id": "2d6ed194-5abd-458b-855b-6466d89d3e12",
   "metadata": {},
   "outputs": [
    {
     "name": "stdin",
     "output_type": "stream",
     "text": [
      "Informe um número 4\n"
     ]
    },
    {
     "name": "stdout",
     "output_type": "stream",
     "text": [
      "A tabuada de 4 é:\n",
      "============\n",
      "4 x 0 = 0\n",
      "4 x 1 = 4\n",
      "4 x 2 = 8\n",
      "4 x 3 = 12\n",
      "4 x 4 = 16\n",
      "4 x 5 = 20\n",
      "4 x 6 = 24\n",
      "4 x 7 = 28\n",
      "4 x 8 = 32\n",
      "4 x 9 = 36\n",
      "4 x 10 = 40\n",
      "============\n"
     ]
    }
   ],
   "source": [
    "n = int(input('Informe um número'))\n",
    "print('A tabuada de {} é:'.format(n))\n",
    "print('='*12)\n",
    "print('{} x 0 = {}'.format(n, n*0))\n",
    "print('{} x 1 = {}'.format(n, n*1))\n",
    "print('{} x 2 = {}'.format(n, n*2))\n",
    "print('{} x 3 = {}'.format(n, n*3))\n",
    "print('{} x 4 = {}'.format(n, n*4))\n",
    "print('{} x 5 = {}'.format(n, n*5))\n",
    "print('{} x 6 = {}'.format(n, n*6))\n",
    "print('{} x 7 = {}'.format(n, n*7))\n",
    "print('{} x 8 = {}'.format(n, n*8))\n",
    "print('{} x 9 = {}'.format(n, n*9))\n",
    "print('{} x 10 = {}'.format(n, n*10))\n",
    "print('='*12)\n"
   ]
  },
  {
   "cell_type": "code",
   "execution_count": 16,
   "id": "df95a311-2131-42a0-bf05-e5ae5e69153b",
   "metadata": {},
   "outputs": [
    {
     "name": "stdin",
     "output_type": "stream",
     "text": [
      "Informe quantos reais você tem na carteira 30\n"
     ]
    },
    {
     "name": "stdout",
     "output_type": "stream",
     "text": [
      "Você pode comprar UUS$ 9.17 dólares\n",
      "Cotação do dólar utilizada: R$ 3.27\n"
     ]
    }
   ],
   "source": [
    "valor = float(input('Informe quantos reais você tem na carteira'))\n",
    "cotacao = 3.27\n",
    "print('Você pode comprar UUS$ {:.2f} dólares'.format(valor/cotacao))\n",
    "print('Cotação do dólar utilizada: R$ {}'.format(cotacao))"
   ]
  },
  {
   "cell_type": "code",
   "execution_count": 17,
   "id": "7a214127-403c-4814-8810-6128b2cd12f4",
   "metadata": {},
   "outputs": [
    {
     "name": "stdin",
     "output_type": "stream",
     "text": [
      "Informe a largura da parede 2.5\n",
      "Informe a altura da parede 3\n"
     ]
    },
    {
     "name": "stdout",
     "output_type": "stream",
     "text": [
      "A área a ser pintada é de 7.5 m2\n",
      "Você gastará 3.75 litros de tinta\n"
     ]
    }
   ],
   "source": [
    "largura = float(input('Informe a largura da parede'))\n",
    "altura = float(input('Informe a altura da parede'))\n",
    "area = largura * altura\n",
    "rendimento=2\n",
    "print('A área a ser pintada é de {} m2'.format(area))\n",
    "print('Você gastará {} litros de tinta'.format(area/rendimento))"
   ]
  },
  {
   "cell_type": "code",
   "execution_count": 20,
   "id": "3ddfa834-a70f-44d5-b754-581acd5587d7",
   "metadata": {},
   "outputs": [
    {
     "name": "stdin",
     "output_type": "stream",
     "text": [
      "Informe o valor do produto 100\n"
     ]
    },
    {
     "name": "stdout",
     "output_type": "stream",
     "text": [
      "Valor com 5% de desconto = R$ 95.00\n"
     ]
    }
   ],
   "source": [
    "preco = float(input('Informe o valor do produto'))\n",
    "print('Valor com 5% de desconto = R$ {:.2f}'.format(preco*0.95))"
   ]
  },
  {
   "cell_type": "code",
   "execution_count": 21,
   "id": "5751febf-9c52-49df-9c25-3e81ddbfd12c",
   "metadata": {},
   "outputs": [
    {
     "name": "stdin",
     "output_type": "stream",
     "text": [
      "Informe o salário do funcionário 100\n"
     ]
    },
    {
     "name": "stdout",
     "output_type": "stream",
     "text": [
      "Salário com 15% de aumento = R$ 115.00\n"
     ]
    }
   ],
   "source": [
    "salario = float(input('Informe o salário do funcionário'))\n",
    "print('Salário com 15% de aumento = R$ {:.2f}'.format(salario*1.15))"
   ]
  },
  {
   "cell_type": "markdown",
   "id": "b51cbea7-cea7-439e-9375-07cbc0541e00",
   "metadata": {},
   "source": [
    "# Crie um programa que leia um número real qualquer e mostre na tela a sua porção inteira\n",
    "Ex: Digite um número: 6.6127\n",
    "\n",
    "O número 6.127 tem a parte inteira 6."
   ]
  },
  {
   "cell_type": "code",
   "execution_count": 1,
   "id": "0735de0b-bb8f-4d41-af1a-f859041770f6",
   "metadata": {},
   "outputs": [],
   "source": [
    "import math"
   ]
  },
  {
   "cell_type": "code",
   "execution_count": 10,
   "id": "d3bca184-5d94-413c-a2c3-12c5ca9b1d00",
   "metadata": {},
   "outputs": [
    {
     "name": "stdin",
     "output_type": "stream",
     "text": [
      "Digite um número:  6.23\n"
     ]
    },
    {
     "name": "stdout",
     "output_type": "stream",
     "text": [
      "O número 6.23 tem a parte inteira 6\n"
     ]
    }
   ],
   "source": [
    "n = float(input('Digite um número: '))\n",
    "print('O número {} tem a parte inteira {}'.format(n, math.trunc(n)))"
   ]
  },
  {
   "cell_type": "markdown",
   "id": "6c049023-7ea3-4de0-94ac-31eb0b6a8f50",
   "metadata": {},
   "source": [
    "# Faça um programa que leia o comprimento do cateto oposto e do cateto adjacente de um triângulo retângulo, calcule e mostre o comprimento da hipotenusa."
   ]
  },
  {
   "cell_type": "code",
   "execution_count": 13,
   "id": "3932c182-9b9c-4096-a95b-8e5710de72b2",
   "metadata": {},
   "outputs": [
    {
     "name": "stdin",
     "output_type": "stream",
     "text": [
      "Entre com o valor do cateto oposto:  2\n",
      "Entre com o valor do cateto adjacente:  2.5\n"
     ]
    },
    {
     "name": "stdout",
     "output_type": "stream",
     "text": [
      "O valor da hipotenusa é: 3.20\n"
     ]
    }
   ],
   "source": [
    "co = float(input('Entre com o valor do cateto oposto: '))\n",
    "ca = float(input('Entre com o valor do cateto adjacente: '))\n",
    "print('O valor da hipotenusa é: {:.2f}'.format(math.hypot(co,ca)))"
   ]
  },
  {
   "cell_type": "markdown",
   "id": "1918c413-36b4-43b2-8f92-c36a66a7dfa2",
   "metadata": {},
   "source": [
    "# Faça um programa que leia um ângulo qualquer e mostre na tela o valor do seno, cosseno e tangente desse ângulo"
   ]
  },
  {
   "cell_type": "code",
   "execution_count": 16,
   "id": "31c52f18-1e26-43d2-b032-6da91940f7f4",
   "metadata": {},
   "outputs": [
    {
     "name": "stdin",
     "output_type": "stream",
     "text": [
      "Informe o ângulo:  45\n"
     ]
    },
    {
     "name": "stdout",
     "output_type": "stream",
     "text": [
      "O seno de 45.0 é 0.71\n",
      "O cosseno de 45.0 é 0.71\n",
      "A tangente de 45.0 é 1.00\n"
     ]
    }
   ],
   "source": [
    "angulo = float(input('Informe o ângulo: '))\n",
    "print('O seno de {} é {:.2f}'. format(angulo, math.sin(math.radians(angulo))))\n",
    "print('O cosseno de {} é {:.2f}'. format(angulo, math.cos(math.radians(angulo))))\n",
    "print('A tangente de {} é {:.2f}'. format(angulo, math.tan(math.radians(angulo))))"
   ]
  },
  {
   "cell_type": "markdown",
   "id": "68c507b7-6eb2-4a83-bd7d-14098ec0dc54",
   "metadata": {},
   "source": [
    "# Um professor quer sortear um dos seus quatro alunos para apagar o quadro. Faça um programa que ajude ele lendo o nome deles e escrevendo o nome do escolhido"
   ]
  },
  {
   "cell_type": "code",
   "execution_count": 20,
   "id": "78cf8622-61d0-45fb-880d-eb109e33fa07",
   "metadata": {},
   "outputs": [
    {
     "name": "stdin",
     "output_type": "stream",
     "text": [
      "Informe o nome do primeiro aluno:  Thiago\n",
      "Informe o nome do segundo aluno:  Rosalina\n",
      "Informe o nome o terceiro aluno:  Osmar\n",
      "Informe o nome do quarto aluno:  Miriam\n"
     ]
    },
    {
     "name": "stdout",
     "output_type": "stream",
     "text": [
      "O aluno escolhido foi Miriam\n"
     ]
    }
   ],
   "source": [
    "import random\n",
    "aluno1 = input('Informe o nome do primeiro aluno: ')\n",
    "aluno2 = input('Informe o nome do segundo aluno: ')\n",
    "aluno3 = input('Informe o nome o terceiro aluno: ')\n",
    "aluno4 = input('Informe o nome do quarto aluno: ')\n",
    "lista = [aluno1, aluno2, aluno3, aluno4]\n",
    "escolhido = random.choice(lista)\n",
    "print('O aluno escolhido foi {}'.format(escolhido))"
   ]
  },
  {
   "cell_type": "markdown",
   "id": "6a8fb371-a580-4390-ad7a-447be12d8722",
   "metadata": {},
   "source": [
    "# O mesmo professor quer sortear a ordem de apresentação de trabalhos dos alunos. Faça um programa que leia o nome dos quatro alunos e mostre a ordem sorteada."
   ]
  },
  {
   "cell_type": "code",
   "execution_count": 23,
   "id": "a8424fda-04db-4eeb-ac08-0f85cf6054c6",
   "metadata": {},
   "outputs": [
    {
     "name": "stdin",
     "output_type": "stream",
     "text": [
      "Informe o nome do primeiro aluno:  a\n",
      "Informe o nome do segundo aluno:  b\n",
      "Informe o nome o terceiro aluno:  c\n",
      "Informe o nome do quarto aluno:  d\n"
     ]
    },
    {
     "name": "stdout",
     "output_type": "stream",
     "text": [
      "A ordem de apresentação será:\n",
      "['b', 'c', 'd', 'a']\n"
     ]
    }
   ],
   "source": [
    "import random\n",
    "aluno1 = input('Informe o nome do primeiro aluno: ')\n",
    "aluno2 = input('Informe o nome do segundo aluno: ')\n",
    "aluno3 = input('Informe o nome o terceiro aluno: ')\n",
    "aluno4 = input('Informe o nome do quarto aluno: ')\n",
    "lista = [aluno1, aluno2, aluno3, aluno4]\n",
    "random.shuffle(lista)\n",
    "print('A ordem de apresentação será:')\n",
    "print(lista)"
   ]
  },
  {
   "cell_type": "markdown",
   "id": "b2312ac8-a058-4fb7-9424-ac730f445be8",
   "metadata": {},
   "source": [
    "# Faça um programa em python que abra e reproduza o áudio de um arquivo MP3"
   ]
  },
  {
   "cell_type": "code",
   "execution_count": 24,
   "id": "9dcfd125-ddde-4fdd-88b3-137091b8f67f",
   "metadata": {},
   "outputs": [
    {
     "data": {
      "text/plain": [
       "<Event(4352-AudioDeviceAdded {'which': 0, 'iscapture': 0})>"
      ]
     },
     "execution_count": 24,
     "metadata": {},
     "output_type": "execute_result"
    }
   ],
   "source": [
    "import pygame\n",
    "pygame.init()\n",
    "pygame.mixer.music.load('audio.mp3')\n",
    "pygame.mixer.music.play()\n",
    "pygame.event.wait()"
   ]
  }
 ],
 "metadata": {
  "kernelspec": {
   "display_name": "Python 3 (ipykernel)",
   "language": "python",
   "name": "python3"
  },
  "language_info": {
   "codemirror_mode": {
    "name": "ipython",
    "version": 3
   },
   "file_extension": ".py",
   "mimetype": "text/x-python",
   "name": "python",
   "nbconvert_exporter": "python",
   "pygments_lexer": "ipython3",
   "version": "3.9.7"
  }
 },
 "nbformat": 4,
 "nbformat_minor": 5
}
