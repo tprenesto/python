{
 "cells": [
  {
   "cell_type": "markdown",
   "id": "102435af-6995-4a75-bfb1-0d23916e25b2",
   "metadata": {},
   "source": [
    "# Crie um programa que leia o nome completo de uma pessoa e motre:\n",
    "* O nome com todas as letras maiúsculas\n",
    "* O nome com todas minúsculas\n",
    "* Quantas letras ao todo (sem considerar espaços)\n",
    "* Quantas letras tem o primeiro nome"
   ]
  },
  {
   "cell_type": "code",
   "execution_count": 10,
   "id": "8e8eff86-5fc9-40ee-90f5-e64e63a0e3d5",
   "metadata": {},
   "outputs": [
    {
     "name": "stdin",
     "output_type": "stream",
     "text": [
      "Digite seu nome:  Thiago Pelaes Renesto\n"
     ]
    },
    {
     "name": "stdout",
     "output_type": "stream",
     "text": [
      "Nome em letras maiúsculas: THIAGO PELAES RENESTO\n",
      "Nome em letras minúsculas: thiago pelaes renesto\n",
      "Quantidade de caracteres: 21\n",
      "Quantidade de letras sem considerar espaços: 19\n",
      "Quantidade de letras do primeiro nome Thiago: 6\n"
     ]
    }
   ],
   "source": [
    "nome = input('Digite seu nome: ')\n",
    "print('Nome em letras maiúsculas: {}'.format(nome.upper()))\n",
    "print('Nome em letras minúsculas: {}'.format(nome.lower()))\n",
    "print('Quantidade de caracteres: {}'. format(len(nome)))\n",
    "pnome = nome.split()\n",
    "nomecompleto = len(''.join(pnome))\n",
    "print('Quantidade de letras sem considerar espaços: {}'.format(nomecompleto))\n",
    "print('Quantidade de letras do primeiro nome {}: {}'.format(pnome[0], len(pnome[0])))\n"
   ]
  },
  {
   "cell_type": "markdown",
   "id": "8070ac51-9a87-4212-8ea4-0c49a9d63287",
   "metadata": {},
   "source": [
    "# Faça um programa que leia um número de 0 a 9999 e mostre na tela cada um dos dígitos separados\n",
    "Ex:\n",
    "> Digite um número: 1834\n",
    "\n",
    "> unidade: 4\n",
    "\n",
    "> dezena: 3\n",
    "\n",
    "> centena: 8\n",
    "\n",
    "> milhar: 1"
   ]
  },
  {
   "cell_type": "code",
   "execution_count": 12,
   "id": "4bf7af72-f9ec-4478-98f6-7002a13e817c",
   "metadata": {},
   "outputs": [
    {
     "name": "stdin",
     "output_type": "stream",
     "text": [
      "Digite um número de até 4 dígitos  1834\n"
     ]
    },
    {
     "name": "stdout",
     "output_type": "stream",
     "text": [
      "Unidade: 4\n",
      "Dezena: 3\n",
      "Centena: 8\n",
      "Milhar: 1\n"
     ]
    }
   ],
   "source": [
    "n = input('Digite um número de até 4 dígitos ')\n",
    "print('Unidade: {}'.format(n[3]))\n",
    "print('Dezena: {}'.format(n[2]))\n",
    "print('Centena: {}'.format(n[1]))\n",
    "print('Milhar: {}'.format(n[0]))"
   ]
  },
  {
   "cell_type": "markdown",
   "id": "40c354ce-3a5e-4fb8-8604-2092d40b535c",
   "metadata": {},
   "source": [
    "# Crie um programa que leia o nome de uma cidade e diga se ela começa ou não com o nome \"SANTO\"\n"
   ]
  },
  {
   "cell_type": "code",
   "execution_count": 17,
   "id": "ed6b765d-9144-4206-98d8-16853b365b2c",
   "metadata": {},
   "outputs": [
    {
     "name": "stdin",
     "output_type": "stream",
     "text": [
      "Informe o nome da cidade:  SANTO\n"
     ]
    },
    {
     "name": "stdout",
     "output_type": "stream",
     "text": [
      "True\n"
     ]
    }
   ],
   "source": [
    "nome = input('Informe o nome da cidade: ')\n",
    "n = nome.split()\n",
    "\n",
    "print('SANTO' in n[0])"
   ]
  },
  {
   "cell_type": "markdown",
   "id": "eac068f0-ce61-49e9-bbb3-09fc24c906c3",
   "metadata": {},
   "source": [
    "# Crie um programa que leia o nome de uma pessoa e diga se ela tem \"SILVA\" no nome"
   ]
  },
  {
   "cell_type": "code",
   "execution_count": 22,
   "id": "d90b7704-8eef-46c5-ab4d-f8da281159f4",
   "metadata": {},
   "outputs": [
    {
     "name": "stdin",
     "output_type": "stream",
     "text": [
      "Informe seu nome:  Thiago silva\n"
     ]
    },
    {
     "name": "stdout",
     "output_type": "stream",
     "text": [
      "True\n"
     ]
    }
   ],
   "source": [
    "nome = input('Informe seu nome: ')\n",
    "print('SILVA' in nome.upper())"
   ]
  },
  {
   "cell_type": "markdown",
   "id": "e6030ec5-83b6-4e0b-afd9-0817f7eb35e7",
   "metadata": {},
   "source": [
    "# Faça um programa que leia uma frase pelo teclado e mostre:\n",
    "\n",
    "* Quantas vezes aparece a letra \"A\"\n",
    "* Em que posição ela aparece a primeira vez\n",
    "* Em que posição ela aparece a última vez"
   ]
  },
  {
   "cell_type": "code",
   "execution_count": 26,
   "id": "5afc525b-92ac-4b0f-baff-914e2c65a140",
   "metadata": {},
   "outputs": [
    {
     "name": "stdin",
     "output_type": "stream",
     "text": [
      "Informe uma frase:  o rato ca\n"
     ]
    },
    {
     "name": "stdout",
     "output_type": "stream",
     "text": [
      "A letra a aparece 2 vezes na frase\n",
      "A letra a aparece na posição 3 pela primeira vez\n",
      "A letra a aparece na posição 8 pela última vez\n"
     ]
    }
   ],
   "source": [
    "frase = input('Informe uma frase: ')\n",
    "print('A letra a aparece {} vezes na frase'.format(frase.count('a')))\n",
    "print('A letra a aparece na posição {} pela primeira vez'.format(frase.find('a')))\n",
    "print('A letra a aparece na posição {} pela última vez'.format(frase.find('a', -1)))"
   ]
  },
  {
   "cell_type": "markdown",
   "id": "f2b030f9-b2ee-4c15-8799-973a59702e9d",
   "metadata": {},
   "source": [
    "# Faça um programa que leia o nome completo de uma pessoa, mostrando em seguida o primeiro e o último nome separadamente\n",
    "\n",
    "Ex: Ana Maria de Souza\n",
    "primeiro = Ana\n",
    "último = Souza"
   ]
  },
  {
   "cell_type": "code",
   "execution_count": 29,
   "id": "03e4dd6a-ef19-43d7-8cc2-4670864ab6bc",
   "metadata": {},
   "outputs": [
    {
     "name": "stdin",
     "output_type": "stream",
     "text": [
      "Informe seu nome completo:  Thiago Pelaes Renesto\n"
     ]
    },
    {
     "name": "stdout",
     "output_type": "stream",
     "text": [
      "Primeiro nome: Thiago\n",
      "Último nome: Renesto\n"
     ]
    }
   ],
   "source": [
    "nome_completo = input('Informe seu nome completo: ').strip()\n",
    "nome = nome_completo.split()\n",
    "print('Primeiro nome: {}'.format(nome[0]))\n",
    "print('Último nome: {}'.format(nome[-1]))"
   ]
  }
 ],
 "metadata": {
  "kernelspec": {
   "display_name": "Python 3 (ipykernel)",
   "language": "python",
   "name": "python3"
  },
  "language_info": {
   "codemirror_mode": {
    "name": "ipython",
    "version": 3
   },
   "file_extension": ".py",
   "mimetype": "text/x-python",
   "name": "python",
   "nbconvert_exporter": "python",
   "pygments_lexer": "ipython3",
   "version": "3.9.7"
  }
 },
 "nbformat": 4,
 "nbformat_minor": 5
}
