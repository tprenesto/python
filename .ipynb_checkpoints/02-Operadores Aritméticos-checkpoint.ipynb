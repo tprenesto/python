{
 "cells": [
  {
   "cell_type": "markdown",
   "id": "e71142f9-5457-4dfc-b7d3-51c178b44747",
   "metadata": {},
   "source": [
    "# Operadores Aritméticos\n",
    "\n",
    "'+' Adição\n",
    "- Subtração\n",
    "* Multiplicação\n",
    "/ Divisão\n",
    "** Exponenciação\n",
    "// Divisão Inteira\n",
    "% Resto da Divisão\n",
    "\n",
    "# Ordem de Precedência\n",
    "\n",
    "()\n",
    "**\n",
    "* / // %\n",
    "+ -\n"
   ]
  },
  {
   "cell_type": "code",
   "execution_count": 1,
   "id": "e72c3261-e860-41c0-9e30-6efd542d54c6",
   "metadata": {},
   "outputs": [
    {
     "data": {
      "text/plain": [
       "17"
      ]
     },
     "execution_count": 1,
     "metadata": {},
     "output_type": "execute_result"
    }
   ],
   "source": [
    "2+3*5"
   ]
  },
  {
   "cell_type": "code",
   "execution_count": 2,
   "id": "d2503fd7-ff1b-4736-92bf-435e5eea9b97",
   "metadata": {},
   "outputs": [
    {
     "data": {
      "text/plain": [
       "1877"
      ]
     },
     "execution_count": 2,
     "metadata": {},
     "output_type": "execute_result"
    }
   ],
   "source": [
    "2+3*5**4"
   ]
  },
  {
   "cell_type": "code",
   "execution_count": 3,
   "id": "a9393c6c-c9eb-4085-9470-5367c6ffd61b",
   "metadata": {},
   "outputs": [
    {
     "data": {
      "text/plain": [
       "50627"
      ]
     },
     "execution_count": 3,
     "metadata": {},
     "output_type": "execute_result"
    }
   ],
   "source": [
    "2+(3*5)**4"
   ]
  },
  {
   "cell_type": "code",
   "execution_count": 4,
   "id": "beee2e5e-c343-4a82-a10e-b9f58f971381",
   "metadata": {},
   "outputs": [
    {
     "name": "stdin",
     "output_type": "stream",
     "text": [
      "Informe um número 3\n"
     ]
    },
    {
     "name": "stdout",
     "output_type": "stream",
     "text": [
      "O sucessor de 3 é 4\n",
      "O antecessor de 3 é 2\n"
     ]
    }
   ],
   "source": [
    "n1 = int(input('Informe um número'))\n",
    "print('O sucessor de {} é {}'.format(n1, n1+1))\n",
    "print('O antecessor de {} é {}'.format(n1, n1-1))\n"
   ]
  },
  {
   "cell_type": "code",
   "execution_count": 7,
   "id": "631eac64-6c92-4396-b8b7-294194c313e3",
   "metadata": {},
   "outputs": [
    {
     "name": "stdin",
     "output_type": "stream",
     "text": [
      "Informe um número 2\n"
     ]
    },
    {
     "name": "stdout",
     "output_type": "stream",
     "text": [
      "O dobro de 2 é 4\n",
      "O tripo de 2 é 6\n",
      "A raiz quadrada de 2 é 1.4142135623730951\n"
     ]
    }
   ],
   "source": [
    "n2 = int(input('Informe um número'))\n",
    "print('O dobro de {} é {}'.format(n2, n2*2))\n",
    "print('O tripo de {} é {}'.format(n2, n2*3))\n",
    "print('A raiz quadrada de {} é {}'.format(n2, n2**(1/2)))"
   ]
  },
  {
   "cell_type": "code",
   "execution_count": 8,
   "id": "a44ff8f7-72ed-4c8e-a1ec-a8e5ad9b9ebc",
   "metadata": {},
   "outputs": [
    {
     "name": "stdin",
     "output_type": "stream",
     "text": [
      "Informe a primeira nota 5\n",
      "Informe a segunda nota 4\n"
     ]
    },
    {
     "name": "stdout",
     "output_type": "stream",
     "text": [
      "A média das notas é 4.5\n"
     ]
    }
   ],
   "source": [
    "nota1 = float(input('Informe a primeira nota'))\n",
    "nota2 = float(input('Informe a segunda nota'))\n",
    "print('A média das notas é {}'.format((nota1+nota2)/2))"
   ]
  },
  {
   "cell_type": "code",
   "execution_count": 10,
   "id": "b2cb301b-9be3-409c-a830-1e5b160745ce",
   "metadata": {},
   "outputs": [
    {
     "name": "stdout",
     "output_type": "stream",
     "text": [
      "Conversão de Metros para centímetros e milímetros\n"
     ]
    },
    {
     "name": "stdin",
     "output_type": "stream",
     "text": [
      "Entre com o valor em metros 5\n"
     ]
    },
    {
     "name": "stdout",
     "output_type": "stream",
     "text": [
      "5.0 convertido em centímetros é 500.0\n",
      "5.0 convertido em milimetros é 5000.0\n"
     ]
    }
   ],
   "source": [
    "print('Conversão de Metros para centímetros e milímetros')\n",
    "valor = float(input('Entre com o valor em metros'))\n",
    "print('{} convertido em centímetros é {}'.format(valor, valor*100))\n",
    "print('{} convertido em milimetros é {}'.format(valor, valor*1000))"
   ]
  },
  {
   "cell_type": "code",
   "execution_count": 24,
   "id": "2d6ed194-5abd-458b-855b-6466d89d3e12",
   "metadata": {},
   "outputs": [
    {
     "name": "stdin",
     "output_type": "stream",
     "text": [
      "Informe um número 4\n"
     ]
    },
    {
     "name": "stdout",
     "output_type": "stream",
     "text": [
      "A tabuada de 4 é:\n",
      "============\n",
      "4 x 0 = 0\n",
      "4 x 1 = 4\n",
      "4 x 2 = 8\n",
      "4 x 3 = 12\n",
      "4 x 4 = 16\n",
      "4 x 5 = 20\n",
      "4 x 6 = 24\n",
      "4 x 7 = 28\n",
      "4 x 8 = 32\n",
      "4 x 9 = 36\n",
      "4 x 10 = 40\n",
      "============\n"
     ]
    }
   ],
   "source": [
    "n = int(input('Informe um número'))\n",
    "print('A tabuada de {} é:'.format(n))\n",
    "print('='*12)\n",
    "print('{} x 0 = {}'.format(n, n*0))\n",
    "print('{} x 1 = {}'.format(n, n*1))\n",
    "print('{} x 2 = {}'.format(n, n*2))\n",
    "print('{} x 3 = {}'.format(n, n*3))\n",
    "print('{} x 4 = {}'.format(n, n*4))\n",
    "print('{} x 5 = {}'.format(n, n*5))\n",
    "print('{} x 6 = {}'.format(n, n*6))\n",
    "print('{} x 7 = {}'.format(n, n*7))\n",
    "print('{} x 8 = {}'.format(n, n*8))\n",
    "print('{} x 9 = {}'.format(n, n*9))\n",
    "print('{} x 10 = {}'.format(n, n*10))\n",
    "print('='*12)\n"
   ]
  },
  {
   "cell_type": "code",
   "execution_count": 16,
   "id": "df95a311-2131-42a0-bf05-e5ae5e69153b",
   "metadata": {},
   "outputs": [
    {
     "name": "stdin",
     "output_type": "stream",
     "text": [
      "Informe quantos reais você tem na carteira 30\n"
     ]
    },
    {
     "name": "stdout",
     "output_type": "stream",
     "text": [
      "Você pode comprar UUS$ 9.17 dólares\n",
      "Cotação do dólar utilizada: R$ 3.27\n"
     ]
    }
   ],
   "source": [
    "valor = float(input('Informe quantos reais você tem na carteira'))\n",
    "cotacao = 3.27\n",
    "print('Você pode comprar UUS$ {:.2f} dólares'.format(valor/cotacao))\n",
    "print('Cotação do dólar utilizada: R$ {}'.format(cotacao))"
   ]
  },
  {
   "cell_type": "code",
   "execution_count": 17,
   "id": "7a214127-403c-4814-8810-6128b2cd12f4",
   "metadata": {},
   "outputs": [
    {
     "name": "stdin",
     "output_type": "stream",
     "text": [
      "Informe a largura da parede 2.5\n",
      "Informe a altura da parede 3\n"
     ]
    },
    {
     "name": "stdout",
     "output_type": "stream",
     "text": [
      "A área a ser pintada é de 7.5 m2\n",
      "Você gastará 3.75 litros de tinta\n"
     ]
    }
   ],
   "source": [
    "largura = float(input('Informe a largura da parede'))\n",
    "altura = float(input('Informe a altura da parede'))\n",
    "area = largura * altura\n",
    "rendimento=2\n",
    "print('A área a ser pintada é de {} m2'.format(area))\n",
    "print('Você gastará {} litros de tinta'.format(area/rendimento))"
   ]
  },
  {
   "cell_type": "code",
   "execution_count": 20,
   "id": "3ddfa834-a70f-44d5-b754-581acd5587d7",
   "metadata": {},
   "outputs": [
    {
     "name": "stdin",
     "output_type": "stream",
     "text": [
      "Informe o valor do produto 100\n"
     ]
    },
    {
     "name": "stdout",
     "output_type": "stream",
     "text": [
      "Valor com 5% de desconto = R$ 95.00\n"
     ]
    }
   ],
   "source": [
    "preco = float(input('Informe o valor do produto'))\n",
    "print('Valor com 5% de desconto = R$ {:.2f}'.format(preco*0.95))"
   ]
  },
  {
   "cell_type": "code",
   "execution_count": 21,
   "id": "5751febf-9c52-49df-9c25-3e81ddbfd12c",
   "metadata": {},
   "outputs": [
    {
     "name": "stdin",
     "output_type": "stream",
     "text": [
      "Informe o salário do funcionário 100\n"
     ]
    },
    {
     "name": "stdout",
     "output_type": "stream",
     "text": [
      "Salário com 15% de aumento = R$ 115.00\n"
     ]
    }
   ],
   "source": [
    "salario = float(input('Informe o salário do funcionário'))\n",
    "print('Salário com 15% de aumento = R$ {:.2f}'.format(salario*1.15))"
   ]
  }
 ],
 "metadata": {
  "kernelspec": {
   "display_name": "Python 3 (ipykernel)",
   "language": "python",
   "name": "python3"
  },
  "language_info": {
   "codemirror_mode": {
    "name": "ipython",
    "version": 3
   },
   "file_extension": ".py",
   "mimetype": "text/x-python",
   "name": "python",
   "nbconvert_exporter": "python",
   "pygments_lexer": "ipython3",
   "version": "3.9.7"
  }
 },
 "nbformat": 4,
 "nbformat_minor": 5
}
